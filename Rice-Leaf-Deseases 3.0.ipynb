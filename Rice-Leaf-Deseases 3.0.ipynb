{
 "cells": [
  {
   "cell_type": "code",
   "execution_count": 1,
   "metadata": {},
   "outputs": [],
   "source": [
    "import tensorflow as tf\n",
    "from tensorflow.keras.preprocessing.image import ImageDataGenerator\n",
    "from tensorflow.keras.models import Sequential\n",
    "from tensorflow.keras.layers import Conv2D, MaxPooling2D, Flatten, Dense, Dropout\n",
    "from tensorflow.keras.callbacks import EarlyStopping\n",
    "import numpy as np\n",
    "from sklearn.metrics import classification_report, confusion_matrix\n",
    "import matplotlib.pyplot as plt\n",
    "import seaborn as sns\n",
    "from tensorflow.keras.preprocessing import image"
   ]
  },
  {
   "cell_type": "code",
   "execution_count": 2,
   "metadata": {},
   "outputs": [],
   "source": [
    "# Komentar: Menyiapkan data path dan parameter dasar\n",
    "train_dir = './dataset_model2/train'  # Path ke folder dataset training\n",
    "val_dir = './dataset_model2/val'      # Path ke folder dataset validasi"
   ]
  },
  {
   "cell_type": "code",
   "execution_count": null,
   "metadata": {},
   "outputs": [],
   "source": [
    "# ImageDataGenerator untuk augmentasi gambar\n",
    "train_datagen = ImageDataGenerator(\n",
    "    rescale=1./255,        # Rescale nilai pixel gambar antara 0 dan 1\n",
    "    shear_range=0.2,       # Melakukan shear transformasi\n",
    "    zoom_range=0.2,        # Zoom in gambar\n",
    "    horizontal_flip=True,   # Membalik gambar secara horizontal\n",
    "    rotation_range=20,      # Memutar gambar hingga 20 derajat\n",
    "    width_shift_range=0.2,  # Menggeser gambar secara horizontal\n",
    "    height_shift_range=0.2, # Menggeser gambar secara vertikal\n",
    "    brightness_range=[0.8, 1.2]  # Mengatur kecerahan gambar\n",
    ")\n"
   ]
  },
  {
   "cell_type": "code",
   "execution_count": 4,
   "metadata": {},
   "outputs": [
    {
     "name": "stdout",
     "output_type": "stream",
     "text": [
      "Found 2100 images belonging to 6 classes.\n",
      "Found 528 images belonging to 6 classes.\n"
     ]
    }
   ],
   "source": [
    "val_datagen = ImageDataGenerator(rescale=1./255)  # Hanya rescale tanpa augmentasi\n",
    "\n",
    "# Menghasilkan data dari direktori dataset\n",
    "train_generator = train_datagen.flow_from_directory(\n",
    "    train_dir,\n",
    "    target_size=(150, 150),  # Ukuran gambar yang diinginkan\n",
    "    batch_size=32,           # Ukuran batch\n",
    "    class_mode='categorical' # Menggunakan class_mode categorical untuk multi-label classification\n",
    ")\n",
    "\n",
    "val_generator = val_datagen.flow_from_directory(\n",
    "    val_dir,\n",
    "    target_size=(150, 150),\n",
    "    batch_size=32,\n",
    "    class_mode='categorical'\n",
    ")"
   ]
  },
  {
   "cell_type": "code",
   "execution_count": 5,
   "metadata": {},
   "outputs": [],
   "source": [
    "# Membangun model CNN\n",
    "model = Sequential()\n",
    "\n",
    "# Layer convolutional pertama\n",
    "model.add(Conv2D(32, (3, 3), activation='relu', input_shape=(150, 150, 3)))\n",
    "model.add(MaxPooling2D(pool_size=(2, 2)))\n",
    "\n",
    "# Layer convolutional kedua\n",
    "model.add(Conv2D(64, (3, 3), activation='relu'))\n",
    "model.add(MaxPooling2D(pool_size=(2, 2)))\n",
    "\n",
    "# Layer convolutional ketiga\n",
    "model.add(Conv2D(128, (3, 3), activation='relu'))\n",
    "model.add(MaxPooling2D(pool_size=(2, 2)))\n",
    "\n",
    "# Flatten layer\n",
    "model.add(Flatten())\n",
    "\n",
    "# Fully connected layer pertama\n",
    "model.add(Dense(512, activation='relu'))\n",
    "\n",
    "# Dropout untuk mengurangi overfitting\n",
    "model.add(Dropout(0.5))\n",
    "\n",
    "# Output layer dengan jumlah kelas sesuai dengan jumlah label\n",
    "model.add(Dense(6, activation='softmax'))  # Menggunakan 6 kelas untuk 6 penyakit\n",
    "\n",
    "# Compiling model\n",
    "model.compile(loss='categorical_crossentropy',\n",
    "              optimizer='adam',\n",
    "              metrics=['accuracy'])"
   ]
  },
  {
   "cell_type": "code",
   "execution_count": 6,
   "metadata": {},
   "outputs": [],
   "source": [
    "# Callback EarlyStopping untuk menghentikan training saat val_accuracy >= 90%\n",
    "early_stopping = EarlyStopping(monitor='val_accuracy', patience=5, mode='max', restore_best_weights=True, verbose=1)\n",
    "\n",
    "# Definisikan threshold akurasi\n",
    "class ThresholdCallback(tf.keras.callbacks.Callback):\n",
    "    def __init__(self, threshold):\n",
    "        super(ThresholdCallback, self).__init__()\n",
    "        self.threshold = threshold\n",
    "\n",
    "    def on_epoch_end(self, epoch, logs=None):\n",
    "        val_accuracy = logs.get('val_accuracy')\n",
    "        if val_accuracy >= self.threshold:\n",
    "            print(f\"\\nAkurasi validasi telah mencapai {self.threshold * 100:.2f}%, menghentikan training.\")\n",
    "            self.model.stop_training = True\n",
    "\n",
    "threshold_callback = ThresholdCallback(threshold=0.95)"
   ]
  },
  {
   "cell_type": "code",
   "execution_count": null,
   "metadata": {},
   "outputs": [],
   "source": [
    "def tambah_label_dataset(model, new_data_dir, target_size=(150, 150), batch_size=32):\n",
    "    \"\"\"\n",
    "    Fungsi untuk menambahkan label baru pada dataset.\n",
    "    :param model: Model yang sudah dilatih sebelumnya.\n",
    "    :param new_data_dir: Path ke dataset baru yang ingin ditambahkan.\n",
    "    :param target_size: Ukuran gambar yang diinginkan.\n",
    "    :param batch_size: Ukuran batch.\n",
    "    \"\"\"\n",
    "    # Augmentasi gambar baru\n",
    "    new_data_gen = ImageDataGenerator(rescale=1./255)\n",
    "    \n",
    "    # Generator untuk dataset baru\n",
    "    new_data_generator = new_data_gen.flow_from_directory(\n",
    "        new_data_dir,\n",
    "        target_size=target_size,\n",
    "        batch_size=batch_size,\n",
    "        class_mode='categorical'\n",
    "    )\n",
    "\n",
    "    # Retrain model dengan dataset baru\n",
    "    model.fit(\n",
    "        new_data_generator,\n",
    "        steps_per_epoch=new_data_generator.samples // batch_size,\n",
    "        epochs=10,\n",
    "        verbose=1\n",
    "    )\n",
    "\n",
    "    print(f\"Model berhasil diupdate dengan data baru dari {new_data_dir}.\")\n",
    "    return model"
   ]
  },
  {
   "cell_type": "code",
   "execution_count": 7,
   "metadata": {},
   "outputs": [
    {
     "name": "stdout",
     "output_type": "stream",
     "text": [
      "Epoch 1/50\n",
      "66/66 [==============================] - 51s 764ms/step - loss: 1.7140 - accuracy: 0.2976 - val_loss: 1.1766 - val_accuracy: 0.5511\n",
      "Epoch 2/50\n",
      "66/66 [==============================] - 35s 530ms/step - loss: 1.1801 - accuracy: 0.5552 - val_loss: 1.0635 - val_accuracy: 0.5890\n",
      "Epoch 3/50\n",
      "66/66 [==============================] - 34s 521ms/step - loss: 0.9559 - accuracy: 0.6371 - val_loss: 0.6528 - val_accuracy: 0.7576\n",
      "Epoch 4/50\n",
      "66/66 [==============================] - 34s 521ms/step - loss: 0.8119 - accuracy: 0.6952 - val_loss: 0.6358 - val_accuracy: 0.7633\n",
      "Epoch 5/50\n",
      "66/66 [==============================] - 34s 522ms/step - loss: 0.7861 - accuracy: 0.7210 - val_loss: 0.5554 - val_accuracy: 0.7973\n",
      "Epoch 6/50\n",
      "66/66 [==============================] - 35s 528ms/step - loss: 0.7021 - accuracy: 0.7433 - val_loss: 0.6507 - val_accuracy: 0.7841\n",
      "Epoch 7/50\n",
      "66/66 [==============================] - 35s 523ms/step - loss: 0.6105 - accuracy: 0.7757 - val_loss: 0.5836 - val_accuracy: 0.7652\n",
      "Epoch 8/50\n",
      "66/66 [==============================] - 34s 520ms/step - loss: 0.6406 - accuracy: 0.7619 - val_loss: 0.6029 - val_accuracy: 0.7765\n",
      "Epoch 9/50\n",
      "66/66 [==============================] - 34s 519ms/step - loss: 0.6424 - accuracy: 0.7552 - val_loss: 0.5529 - val_accuracy: 0.7955\n",
      "Epoch 10/50\n",
      "66/66 [==============================] - 34s 517ms/step - loss: 0.5646 - accuracy: 0.7910 - val_loss: 0.4310 - val_accuracy: 0.8295\n",
      "Epoch 11/50\n",
      "66/66 [==============================] - 34s 514ms/step - loss: 0.5384 - accuracy: 0.7952 - val_loss: 0.4463 - val_accuracy: 0.8277\n",
      "Epoch 12/50\n",
      "66/66 [==============================] - 34s 520ms/step - loss: 0.5132 - accuracy: 0.8043 - val_loss: 0.4381 - val_accuracy: 0.8390\n",
      "Epoch 13/50\n",
      "66/66 [==============================] - 35s 527ms/step - loss: 0.5090 - accuracy: 0.8124 - val_loss: 0.3922 - val_accuracy: 0.8617\n",
      "Epoch 14/50\n",
      "66/66 [==============================] - 35s 533ms/step - loss: 0.4908 - accuracy: 0.8090 - val_loss: 0.3988 - val_accuracy: 0.8693\n",
      "Epoch 15/50\n",
      "66/66 [==============================] - 34s 519ms/step - loss: 0.5256 - accuracy: 0.7948 - val_loss: 0.4015 - val_accuracy: 0.8580\n",
      "Epoch 16/50\n",
      "66/66 [==============================] - 34s 521ms/step - loss: 0.4439 - accuracy: 0.8295 - val_loss: 0.4547 - val_accuracy: 0.8333\n",
      "Epoch 17/50\n",
      "66/66 [==============================] - 34s 520ms/step - loss: 0.4515 - accuracy: 0.8319 - val_loss: 0.4106 - val_accuracy: 0.8523\n",
      "Epoch 18/50\n",
      "66/66 [==============================] - 34s 519ms/step - loss: 0.4182 - accuracy: 0.8414 - val_loss: 0.3297 - val_accuracy: 0.8958\n",
      "Epoch 19/50\n",
      "66/66 [==============================] - 34s 518ms/step - loss: 0.4444 - accuracy: 0.8319 - val_loss: 0.3183 - val_accuracy: 0.8902\n",
      "Epoch 20/50\n",
      "66/66 [==============================] - 34s 517ms/step - loss: 0.3918 - accuracy: 0.8567 - val_loss: 0.2995 - val_accuracy: 0.8977\n",
      "Epoch 21/50\n",
      "66/66 [==============================] - 34s 518ms/step - loss: 0.3805 - accuracy: 0.8586 - val_loss: 0.3390 - val_accuracy: 0.8598\n",
      "Epoch 22/50\n",
      "66/66 [==============================] - 34s 520ms/step - loss: 0.3905 - accuracy: 0.8510 - val_loss: 0.3095 - val_accuracy: 0.8977\n",
      "Epoch 23/50\n",
      "66/66 [==============================] - 34s 521ms/step - loss: 0.4066 - accuracy: 0.8524 - val_loss: 0.3491 - val_accuracy: 0.8826\n",
      "Epoch 24/50\n",
      "66/66 [==============================] - 34s 520ms/step - loss: 0.3390 - accuracy: 0.8700 - val_loss: 0.2586 - val_accuracy: 0.9072\n",
      "Epoch 25/50\n",
      "66/66 [==============================] - 34s 520ms/step - loss: 0.3209 - accuracy: 0.8810 - val_loss: 0.3274 - val_accuracy: 0.9034\n",
      "Epoch 26/50\n",
      "66/66 [==============================] - 34s 518ms/step - loss: 0.3433 - accuracy: 0.8724 - val_loss: 0.2360 - val_accuracy: 0.9223\n",
      "Epoch 27/50\n",
      "66/66 [==============================] - 35s 527ms/step - loss: 0.2962 - accuracy: 0.8929 - val_loss: 0.3152 - val_accuracy: 0.8826\n",
      "Epoch 28/50\n",
      "66/66 [==============================] - 34s 521ms/step - loss: 0.2934 - accuracy: 0.8986 - val_loss: 0.3288 - val_accuracy: 0.8845\n",
      "Epoch 29/50\n",
      "66/66 [==============================] - 34s 521ms/step - loss: 0.2892 - accuracy: 0.8952 - val_loss: 0.3083 - val_accuracy: 0.8939\n",
      "Epoch 30/50\n",
      "66/66 [==============================] - 34s 522ms/step - loss: 0.2933 - accuracy: 0.8862 - val_loss: 0.3131 - val_accuracy: 0.9034\n",
      "Epoch 31/50\n",
      "66/66 [==============================] - ETA: 0s - loss: 0.2764 - accuracy: 0.8962Restoring model weights from the end of the best epoch: 26.\n",
      "66/66 [==============================] - 34s 521ms/step - loss: 0.2764 - accuracy: 0.8962 - val_loss: 0.2675 - val_accuracy: 0.9167\n",
      "Epoch 31: early stopping\n"
     ]
    }
   ],
   "source": [
    "# Melatih model dengan early stopping\n",
    "history = model.fit(\n",
    "    train_generator,\n",
    "    epochs=50,  # Set jumlah epoch yang cukup besar\n",
    "    validation_data=val_generator,\n",
    "    callbacks=[early_stopping, threshold_callback]\n",
    ")\n"
   ]
  },
  {
   "cell_type": "code",
   "execution_count": null,
   "metadata": {},
   "outputs": [],
   "source": [
    "# Simpan model\n",
    "model.save('model/model_penyakit_daun_padi.keras')"
   ]
  },
  {
   "cell_type": "code",
   "execution_count": 10,
   "metadata": {},
   "outputs": [
    {
     "name": "stdout",
     "output_type": "stream",
     "text": [
      "17/17 [==============================] - 4s 211ms/step - loss: 0.2360 - accuracy: 0.9223\n",
      "Akurasi Validasi: 92.23%\n"
     ]
    }
   ],
   "source": [
    "# Evaluasi model pada data validasi\n",
    "val_loss, val_acc = model.evaluate(val_generator)\n",
    "print(f\"Akurasi Validasi: {val_acc * 100:.2f}%\")"
   ]
  },
  {
   "cell_type": "code",
   "execution_count": 12,
   "metadata": {},
   "outputs": [
    {
     "name": "stdout",
     "output_type": "stream",
     "text": [
      "INFO:tensorflow:Assets written to: C:\\Users\\alhib\\AppData\\Local\\Temp\\tmpdwtio0_1\\assets\n"
     ]
    },
    {
     "name": "stderr",
     "output_type": "stream",
     "text": [
      "INFO:tensorflow:Assets written to: C:\\Users\\alhib\\AppData\\Local\\Temp\\tmpdwtio0_1\\assets\n"
     ]
    },
    {
     "name": "stdout",
     "output_type": "stream",
     "text": [
      "Model berhasil dikonversi dan disimpan sebagai model_penyakit_daun_padi.tflite.\n"
     ]
    }
   ],
   "source": [
    "def convert_to_tflite(model, saved_model_path='model_penyakit_daun_padi.keras', tflite_model_path='model_penyakit_daun_padi.tflite'):\n",
    "    # Simpan model yang sudah dilatih\n",
    "    model.save(saved_model_path)\n",
    "\n",
    "    # Memuat model yang disimpan dan mengonversinya ke format TFLite\n",
    "    converter = tf.lite.TFLiteConverter.from_keras_model(model)\n",
    "    tflite_model = converter.convert()\n",
    "\n",
    "    # Simpan model TFLite ke file\n",
    "    with open(tflite_model_path, 'wb') as f:\n",
    "        f.write(tflite_model)\n",
    "    print(f\"Model berhasil dikonversi dan disimpan sebagai {tflite_model_path}.\")\n",
    "\n",
    "# Mengonversi model ke TFLite\n",
    "convert_to_tflite(model)"
   ]
  },
  {
   "cell_type": "code",
   "execution_count": 2,
   "metadata": {},
   "outputs": [
    {
     "ename": "NameError",
     "evalue": "name 'model' is not defined",
     "output_type": "error",
     "traceback": [
      "\u001b[1;31m---------------------------------------------------------------------------\u001b[0m",
      "\u001b[1;31mNameError\u001b[0m                                 Traceback (most recent call last)",
      "Cell \u001b[1;32mIn[2], line 48\u001b[0m\n\u001b[0;32m     46\u001b[0m \u001b[38;5;66;03m# Contoh penggunaan\u001b[39;00m\n\u001b[0;32m     47\u001b[0m img_path \u001b[38;5;241m=\u001b[39m \u001b[38;5;124m'\u001b[39m\u001b[38;5;124mtest/gandum.jpg\u001b[39m\u001b[38;5;124m'\u001b[39m  \u001b[38;5;66;03m# Ganti dengan path gambar yang ingin diuji\u001b[39;00m\n\u001b[1;32m---> 48\u001b[0m probabilities \u001b[38;5;241m=\u001b[39m test_model_image_tflite(\u001b[43mmodel\u001b[49m, img_path)\n\u001b[0;32m     50\u001b[0m \u001b[38;5;66;03m# Evaluasi model pada data validasi\u001b[39;00m\n\u001b[0;32m     51\u001b[0m val_loss, val_acc \u001b[38;5;241m=\u001b[39m model\u001b[38;5;241m.\u001b[39mevaluate(val_generator)\n",
      "\u001b[1;31mNameError\u001b[0m: name 'model' is not defined"
     ]
    }
   ],
   "source": [
    "def test_model_image_tflite(model, img_path, target_size=(150, 150)):\n",
    "    \"\"\"\n",
    "    Fungsi untuk menguji model TensorFlow Lite pada gambar yang diberikan dan menampilkan probabilitas label.\n",
    "    \n",
    "    :param model: Model TensorFlow Lite yang sudah dikonversi\n",
    "    :param img_path: Path ke gambar yang akan diuji\n",
    "    :param target_size: Ukuran target gambar yang digunakan untuk model\n",
    "    :return: Probabilitas prediksi tiap label\n",
    "    \"\"\"\n",
    "    # Memuat gambar dan mengubah ukurannya\n",
    "    img = image.load_img(img_path, target_size=target_size)\n",
    "    \n",
    "    # Mengonversi gambar menjadi array numpy dan menormalisasi (rescale)\n",
    "    img_array = image.img_to_array(img) / 255.0\n",
    "    img_array = np.expand_dims(img_array, axis=0)  # Tambahkan dimensi batch\n",
    "\n",
    "    # Menggunakan model TFLite untuk prediksi\n",
    "    interpreter = tf.lite.Interpreter(model_path=\"model_penyakit_daun_padi.tflite\")\n",
    "    interpreter.allocate_tensors()\n",
    "    \n",
    "    input_details = interpreter.get_input_details()\n",
    "    output_details = interpreter.get_output_details()\n",
    "\n",
    "    interpreter.set_tensor(input_details[0]['index'], img_array)\n",
    "    interpreter.invoke()\n",
    "\n",
    "    # Ambil hasil prediksi\n",
    "    predictions = interpreter.get_tensor(output_details[0]['index'])\n",
    "\n",
    "    # Menampilkan probabilitas setiap label\n",
    "    class_names = list(val_generator.class_indices.keys())  # Nama kelas berdasarkan generator\n",
    "    prob_dict = {class_names[i]: predictions[0][i] for i in range(len(class_names))}\n",
    "    \n",
    "    print(\"Probabilitas Prediksi untuk Gambar:\")\n",
    "    for label, prob in prob_dict.items():\n",
    "        print(f\"{label}: {prob * 100:.2f}%\")\n",
    "    \n",
    "    # Menampilkan gambar yang diuji\n",
    "    plt.imshow(img)\n",
    "    plt.axis('off')  # Matikan sumbu\n",
    "    plt.title(f\"Prediksi: {class_names[np.argmax(predictions)]}, Probabilitas: {max(prob_dict.values()) * 100:.2f}%\")\n",
    "    plt.show()\n",
    "    \n",
    "    return prob_dict\n",
    "\n",
    "# Contoh penggunaan\n",
    "img_path = 'test/gandum.jpg'  # Ganti dengan path gambar yang ingin diuji\n",
    "probabilities = test_model_image_tflite(model, img_path)\n",
    "\n",
    "# Evaluasi model pada data validasi\n",
    "val_loss, val_acc = model.evaluate(val_generator)\n",
    "print(f\"Akurasi Validasi: {val_acc * 100:.2f}%\")\n",
    "\n",
    "# Menggunakan model untuk prediksi pada data validasi\n",
    "val_predictions = model.predict(val_generator, verbose=1)\n",
    "\n",
    "# Mengubah prediksi menjadi label yang sesuai (argmax untuk kategori dengan probabilitas tertinggi)\n",
    "predicted_labels = np.argmax(val_predictions, axis=1)\n",
    "\n",
    "# Mendapatkan label sebenarnya\n",
    "true_labels = val_generator.classes\n",
    "\n",
    "# Menampilkan classification report (precision, recall, f1-score)\n",
    "print(\"Classification Report:\\n\", classification_report(true_labels, predicted_labels, target_names=val_generator.class_indices.keys()))\n",
    "\n",
    "# Membuat confusion matrix\n",
    "conf_matrix = confusion_matrix(true_labels, predicted_labels)\n",
    "\n",
    "# Visualisasi confusion matrix\n",
    "plt.figure(figsize=(8, 6))\n",
    "sns.heatmap(conf_matrix, annot=True, fmt='d', cmap='Blues', xticklabels=val_generator.class_indices.keys(), yticklabels=val_generator.class_indices.keys())\n",
    "plt.title('Confusion Matrix')\n",
    "plt.xlabel('Predicted')\n",
    "plt.ylabel('True')\n",
    "plt.show()\n",
    "\n",
    "# Grafik Akurasi selama pelatihan\n",
    "plt.figure(figsize=(8, 6))\n",
    "plt.plot(history.history['accuracy'], label='Train Accuracy')\n",
    "plt.plot(history.history['val_accuracy'], label='Validation Accuracy')\n",
    "plt.title('Akurasi Model')\n",
    "plt.xlabel('Epoch')\n",
    "plt.ylabel('Accuracy')\n",
    "plt.legend()\n",
    "plt.show()\n",
    "\n",
    "# Grafik Kerugian (Loss) selama pelatihan\n",
    "plt.figure(figsize=(8, 6))\n",
    "plt.plot(history.history['loss'], label='Train Loss')\n",
    "plt.plot(history.history['val_loss'], label='Validation Loss')\n",
    "plt.title('Kerugian (Loss) Model')\n",
    "plt.xlabel('Epoch')\n",
    "plt.ylabel('Loss')\n",
    "plt.legend()\n",
    "plt.show()"
   ]
  },
  {
   "cell_type": "code",
   "execution_count": 2,
   "metadata": {},
   "outputs": [
    {
     "name": "stdout",
     "output_type": "stream",
     "text": [
      "Probabilitas kelas yang terdeteksi:\n",
      "[[4.4243453e-08 7.6394565e-05 4.1009216e-08 6.2289105e-06 2.1256540e-06\n",
      "  9.9991512e-01]]\n"
     ]
    },
    {
     "data": {
      "image/png": "[encoded data removed]",
      "text/plain": [
       "<Figure size 640x480 with 1 Axes>"
      ]
     },
     "metadata": {},
     "output_type": "display_data"
    }
   ],
   "source": [
    "import tensorflow as tf\n",
    "import numpy as np\n",
    "from PIL import Image\n",
    "import matplotlib.pyplot as plt\n",
    "\n",
    "# Fungsi untuk memuat dan menguji model TFLite\n",
    "def test_tflite_model(model_path, image_path):\n",
    "    # Memuat model TFLite\n",
    "    interpreter = tf.lite.Interpreter(model_path=model_path)\n",
    "    interpreter.allocate_tensors()\n",
    "    \n",
    "    # Mendapatkan informasi tensor input dan output\n",
    "    input_details = interpreter.get_input_details()\n",
    "    output_details = interpreter.get_output_details()\n",
    "    \n",
    "    # Menentukan ukuran input yang diharapkan oleh model\n",
    "    input_shape = input_details[0]['shape']\n",
    "    input_size = tuple(input_shape[1:3])  # Mengambil dimensi tinggi dan lebar\n",
    "    \n",
    "    # Memuat dan memproses gambar\n",
    "    image = Image.open(image_path)\n",
    "    image = image.resize(input_size)\n",
    "    image = np.array(image, dtype=np.float32)\n",
    "    \n",
    "    # Jika gambar RGB, normalisasi dan ubah bentuknya\n",
    "    if image.shape[-1] == 3:\n",
    "        image = image / 255.0  # Normalisasi ke rentang [0, 1]\n",
    "    image = np.expand_dims(image, axis=0)  # Menambah dimensi batch\n",
    "    \n",
    "    # Memasukkan gambar ke dalam input tensor\n",
    "    interpreter.set_tensor(input_details[0]['index'], image)\n",
    "    \n",
    "    # Menjalankan inferensi\n",
    "    interpreter.invoke()\n",
    "    \n",
    "    # Mendapatkan hasil dari output tensor\n",
    "    output_data = interpreter.get_tensor(output_details[0]['index'])\n",
    "    \n",
    "    # Menampilkan hasil probabilitas\n",
    "    print(\"Probabilitas kelas yang terdeteksi:\")\n",
    "    print(output_data)\n",
    "    \n",
    "    # Jika ingin menampilkan gambar dan label prediksi\n",
    "    plt.imshow(image[0])\n",
    "    plt.title(f'Predicted Class: {np.argmax(output_data)}')\n",
    "    plt.show()\n",
    "\n",
    "# Contoh penggunaan\n",
    "model_path = 'model/model_penyakit_daun_padi.tflite'  # Path ke file .tflite Anda\n",
    "image_path = 'test/rice_leaf (173).jpg'  # Path ke gambar yang ingin diuji\n",
    "test_tflite_model(model_path, image_path)\n"
   ]
  }
 ],
 "metadata": {
  "kernelspec": {
   "display_name": "tensorflow",
   "language": "python",
   "name": "python3"
  },
  "language_info": {
   "codemirror_mode": {
    "name": "ipython",
    "version": 3
   },
   "file_extension": ".py",
   "mimetype": "text/x-python",
   "name": "python",
   "nbconvert_exporter": "python",
   "pygments_lexer": "ipython3",
   "version": "3.8.20"
  }
 },
 "nbformat": 4,
 "nbformat_minor": 2
}
